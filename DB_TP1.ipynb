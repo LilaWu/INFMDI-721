{
  "nbformat": 4,
  "nbformat_minor": 0,
  "metadata": {
    "anaconda-cloud": {},
    "kernelspec": {
      "display_name": "Python 3",
      "language": "python",
      "name": "python3"
    },
    "language_info": {
      "codemirror_mode": {
        "name": "ipython",
        "version": 3
      },
      "file_extension": ".py",
      "mimetype": "text/x-python",
      "name": "python",
      "nbconvert_exporter": "python",
      "pygments_lexer": "ipython3",
      "version": "3.6.5"
    },
    "colab": {
      "name": "DB-TP1.ipynb",
      "provenance": [],
      "include_colab_link": true
    }
  },
  "cells": [
    {
      "cell_type": "markdown",
      "metadata": {
        "id": "view-in-github",
        "colab_type": "text"
      },
      "source": [
        "<a href=\"https://colab.research.google.com/github/LilaWu/INFMDI-721/blob/master/DB_TP1.ipynb\" target=\"_parent\"><img src=\"https://colab.research.google.com/assets/colab-badge.svg\" alt=\"Open In Colab\"/></a>"
      ]
    },
    {
      "cell_type": "markdown",
      "metadata": {
        "id": "3XIPrKVNJpe8",
        "colab_type": "text"
      },
      "source": [
        "# TP1 - Finding Keys using Functional Dependencies \n",
        "--------------------------\n",
        "\n",
        "In this lab, we are going to learn \n",
        "\n",
        "- how to use Jupyter\n",
        "- how to use SQLite\n",
        "- how to discover keys in relations\n",
        "\n",
        "## How to use Jupyter\n",
        "\n",
        "To execute a cell, click on it, and then use SHIFT+ENTER (this will execute the contents of the cell, and move down to the next one!)\n",
        "\n",
        "To edit a cell, click on it. If the cell uses markdown code, then use ENTER to edit it.\n",
        "\n",
        "See the Help menu for other useful keyboard commands. You can always use the menu bar instead as well.\n"
      ]
    },
    {
      "cell_type": "code",
      "metadata": {
        "id": "5sWlNLc9Jpe-",
        "colab_type": "code",
        "colab": {},
        "outputId": "e0648963-7aa8-40e5-e29d-9217c0b77f70"
      },
      "source": [
        "print(\"Hello world!\")"
      ],
      "execution_count": 0,
      "outputs": [
        {
          "output_type": "stream",
          "text": [
            "Hello world!\n"
          ],
          "name": "stdout"
        }
      ]
    },
    {
      "cell_type": "markdown",
      "metadata": {
        "id": "EmmjgPW0JpfD",
        "colab_type": "text"
      },
      "source": [
        "Another example:"
      ]
    },
    {
      "cell_type": "code",
      "metadata": {
        "id": "06tC692yJpfE",
        "colab_type": "code",
        "colab": {},
        "outputId": "31580e7a-6914-4f9e-c523-b2cf9fb6d5ef"
      },
      "source": [
        "for i in range(1,10):\n",
        "    print(i)"
      ],
      "execution_count": 0,
      "outputs": [
        {
          "output_type": "stream",
          "text": [
            "1\n",
            "2\n",
            "3\n",
            "4\n",
            "5\n",
            "6\n",
            "7\n",
            "8\n",
            "9\n"
          ],
          "name": "stdout"
        }
      ]
    },
    {
      "cell_type": "markdown",
      "metadata": {
        "id": "TaYwoXiSJpfH",
        "colab_type": "text"
      },
      "source": [
        "#### Exercise 1\n",
        "\n",
        "Print numbers 1 to 9 in reverse order"
      ]
    },
    {
      "cell_type": "code",
      "metadata": {
        "id": "24IBNqQSJpfI",
        "colab_type": "code",
        "colab": {},
        "outputId": "9360fd50-bcab-4c05-d57d-d0602882b4b1"
      },
      "source": [
        ""
      ],
      "execution_count": 0,
      "outputs": [
        {
          "output_type": "stream",
          "text": [
            "9\n",
            "8\n",
            "7\n",
            "6\n",
            "5\n",
            "4\n",
            "3\n",
            "2\n",
            "1\n"
          ],
          "name": "stdout"
        }
      ]
    },
    {
      "cell_type": "markdown",
      "metadata": {
        "id": "i1L3CPO_JpfL",
        "colab_type": "text"
      },
      "source": [
        "## How to use SQLite\n",
        "\n",
        "To work with SQL easily in a notebook, we'll load the ipython-sql extension as follows:"
      ]
    },
    {
      "cell_type": "code",
      "metadata": {
        "id": "GObNrFhzJpfL",
        "colab_type": "code",
        "colab": {},
        "outputId": "cce3ed9a-e84c-42b0-c6d4-42819c6dc5d4"
      },
      "source": [
        "%load_ext sql\n",
        "%sql sqlite://"
      ],
      "execution_count": 0,
      "outputs": [
        {
          "output_type": "execute_result",
          "data": {
            "text/plain": [
              "'Connected: None@None'"
            ]
          },
          "metadata": {
            "tags": []
          },
          "execution_count": 4
        }
      ]
    },
    {
      "cell_type": "markdown",
      "metadata": {
        "id": "83hV7A0OJpfO",
        "colab_type": "text"
      },
      "source": [
        "We are going to create a table:"
      ]
    },
    {
      "cell_type": "code",
      "metadata": {
        "id": "AK4b9ZCvJpfR",
        "colab_type": "code",
        "colab": {},
        "outputId": "94762f47-9098-4ad8-b133-7f29762d9433"
      },
      "source": [
        "%%sql DROP TABLE IF EXISTS T;\n",
        "CREATE TABLE T(course VARCHAR, classroom INT, time INT);\n",
        "INSERT INTO T VALUES ('CS 364', 132, 900);\n",
        "INSERT INTO T VALUES ('CS 245', 140, 1000);\n",
        "INSERT INTO T VALUES ('EE 101', 210, 900);"
      ],
      "execution_count": 0,
      "outputs": [
        {
          "output_type": "stream",
          "text": [
            "Done.\n",
            "Done.\n",
            "1 rows affected.\n",
            "1 rows affected.\n",
            "1 rows affected.\n"
          ],
          "name": "stdout"
        },
        {
          "output_type": "execute_result",
          "data": {
            "text/plain": [
              "[]"
            ]
          },
          "metadata": {
            "tags": []
          },
          "execution_count": 5
        }
      ]
    },
    {
      "cell_type": "markdown",
      "metadata": {
        "id": "R_2IEx4JJpfT",
        "colab_type": "text"
      },
      "source": [
        "Let's run our first SQL query:"
      ]
    },
    {
      "cell_type": "code",
      "metadata": {
        "id": "PMebzp3zJpfU",
        "colab_type": "code",
        "colab": {},
        "outputId": "46bf0ec0-3cee-4214-9ff9-0ac71dc1cc57"
      },
      "source": [
        "%sql SELECT * FROM T;"
      ],
      "execution_count": 0,
      "outputs": [
        {
          "output_type": "stream",
          "text": [
            "Done.\n"
          ],
          "name": "stdout"
        },
        {
          "output_type": "execute_result",
          "data": {
            "text/html": [
              "<table>\n",
              "    <tr>\n",
              "        <th>course</th>\n",
              "        <th>classroom</th>\n",
              "        <th>time</th>\n",
              "    </tr>\n",
              "    <tr>\n",
              "        <td>CS 364</td>\n",
              "        <td>132</td>\n",
              "        <td>900</td>\n",
              "    </tr>\n",
              "    <tr>\n",
              "        <td>CS 245</td>\n",
              "        <td>140</td>\n",
              "        <td>1000</td>\n",
              "    </tr>\n",
              "    <tr>\n",
              "        <td>EE 101</td>\n",
              "        <td>210</td>\n",
              "        <td>900</td>\n",
              "    </tr>\n",
              "</table>"
            ],
            "text/plain": [
              "[('CS 364', 132, 900), ('CS 245', 140, 1000), ('EE 101', 210, 900)]"
            ]
          },
          "metadata": {
            "tags": []
          },
          "execution_count": 6
        }
      ]
    },
    {
      "cell_type": "markdown",
      "metadata": {
        "id": "VmoZmdq5JpfX",
        "colab_type": "text"
      },
      "source": [
        "#### Exercise 2\n",
        "\n",
        "List the name of the courses with time less than 950"
      ]
    },
    {
      "cell_type": "code",
      "metadata": {
        "id": "ftUyQWfQJpfY",
        "colab_type": "code",
        "colab": {},
        "outputId": "ce8614cb-f4b6-4276-bdea-8a8eef05f9db"
      },
      "source": [
        ""
      ],
      "execution_count": 0,
      "outputs": [
        {
          "output_type": "stream",
          "text": [
            "Done.\n"
          ],
          "name": "stdout"
        },
        {
          "output_type": "execute_result",
          "data": {
            "text/html": [
              "<table>\n",
              "    <tr>\n",
              "        <th>course</th>\n",
              "    </tr>\n",
              "    <tr>\n",
              "        <td>CS 364</td>\n",
              "    </tr>\n",
              "    <tr>\n",
              "        <td>EE 101</td>\n",
              "    </tr>\n",
              "</table>"
            ],
            "text/plain": [
              "[('CS 364',), ('EE 101',)]"
            ]
          },
          "metadata": {
            "tags": []
          },
          "execution_count": 7
        }
      ]
    },
    {
      "cell_type": "markdown",
      "metadata": {
        "id": "BxkG3vMFJpfa",
        "colab_type": "text"
      },
      "source": [
        "## How to discover keys in relations\n",
        "\n",
        "Now, we are going to work with functional dependencies, keys and closures. Our final goal is going to build a method to find keys in a relation.\n",
        "\n",
        "### Functional Dependencies\n",
        "\n",
        "Recall that given a set of attributes  $\\{A_1, \\dots, A_n\\}$ and a set of FDs $\\Gamma$\n",
        "\n",
        "The closure, denoted $\\{A_1, \\dots, A_n\\}^+$, is defined to be the largest set of attributes B s.t. $$A_1,\\dots,A_n \\rightarrow B \\text{ using } \\Gamma.$$\n",
        "\n",
        "We're going to use some functions to compute the closure of a set of attributes and other such operations (_from CS145 Stanford_)"
      ]
    },
    {
      "cell_type": "code",
      "metadata": {
        "id": "Utpj0_N1Jpfb",
        "colab_type": "code",
        "colab": {}
      },
      "source": [
        "# Source code\n",
        "\n",
        "def to_set(x):\n",
        "  \"\"\"Convert input int, string, list, tuple, set -> set\"\"\"\n",
        "  if type(x) == set:\n",
        "    return x\n",
        "  elif type(x) in [list, set]:\n",
        "    return set(x)\n",
        "  elif type(x) in [str, int]:\n",
        "    return set([x])\n",
        "  else:\n",
        "    raise Exception(\"Unrecognized type.\")\n",
        "\n",
        "def fd_to_str(lr_tuple):\n",
        "    lhs = lr_tuple[0]\n",
        "    rhs = lr_tuple[1]\n",
        "    return \",\".join(to_set(lhs)) + \" -> \" + \",\".join(to_set(rhs))\n",
        "\n",
        "def fds_to_str(fds): return \"\\n\\t\".join(map(fd_to_str, fds))\n",
        "\n",
        "def set_to_str(x): return \"{\" + \",\".join(x) + \"}\"\n",
        "\n",
        "def fd_applies_to(fd, x): \n",
        "  lhs, rhs = map(to_set, fd)\n",
        "  return lhs.issubset(x)\n",
        "\n",
        "def print_setup(A, fds):\n",
        "  print(\"Attributes = \" + set_to_str(A))\n",
        "  print(\"FDs = \\t\" + fds_to_str(fds))\n",
        "\n",
        "def print_fds(fds):\n",
        "  print(\"FDs = \\t\" + fds_to_str(fds))    \n"
      ],
      "execution_count": 0,
      "outputs": []
    },
    {
      "cell_type": "markdown",
      "metadata": {
        "id": "02xy1epWJpfd",
        "colab_type": "text"
      },
      "source": [
        "Now, let's look at a concrete example. For example, the code for\n",
        "\n",
        "attributes = { name, category, color, department, price}\n",
        "\n",
        "and functional dependencies:\n",
        "\n",
        "name $\\rightarrow$ color\n",
        "\n",
        "category $\\rightarrow$ department\n",
        "\n",
        "color, category $\\rightarrow$ price\n",
        "\n",
        "is the following:"
      ]
    },
    {
      "cell_type": "code",
      "metadata": {
        "id": "bLSfGAo8Jpfd",
        "colab_type": "code",
        "colab": {},
        "outputId": "e5e68682-a168-4f06-a1f1-7e3a7dc4c0a9"
      },
      "source": [
        "attributes  = set([\"name\", \"category\", \"color\", \"department\", \"price\"]) # These are the attribute set.\n",
        "fds = [(set([\"name\"]),\"color\"),\n",
        "         (set([\"category\"]), \"department\"),\n",
        "         (set([\"color\", \"category\"]), \"price\")]\n",
        "\n",
        "print_setup(attributes, fds)"
      ],
      "execution_count": 0,
      "outputs": [
        {
          "output_type": "stream",
          "text": [
            "Attributes = {department,color,category,name,price}\n",
            "FDs = \tname -> color\n",
            "\tcategory -> department\n",
            "\tcolor,category -> price\n"
          ],
          "name": "stdout"
        }
      ]
    },
    {
      "cell_type": "markdown",
      "metadata": {
        "id": "LqBb5PMyJpfg",
        "colab_type": "text"
      },
      "source": [
        "### Closure of a set of Attributes\n",
        "\n",
        "Let's implement the algorithm for obtaining the closure of a set of attributes:"
      ]
    },
    {
      "cell_type": "code",
      "metadata": {
        "id": "slrHeUAQJpfg",
        "colab_type": "code",
        "colab": {}
      },
      "source": [
        "def compute_closure(x, fds, verbose=False):\n",
        "    bChanged = True        # We will repeat until there are no changes.\n",
        "    x_ret    = x.copy()    # Make a copy of the input to hold x^{+}\n",
        "    while bChanged:\n",
        "        bChanged = False   # Must change on each iteration\n",
        "        for fd in fds:     # loop through all the FDs.\n",
        "            (lhs, rhs) = map(to_set, fd) # recall: lhs -> rhs\n",
        "            if fd_applies_to(fd, x_ret) and not rhs.issubset(x_ret):\n",
        "                x_ret = x_ret.union(rhs)\n",
        "                if verbose:\n",
        "                    print(\"Using FD \" + fd_to_str(fd))\n",
        "                    print(\"\\t Updated x to \" + set_to_str(x_ret))\n",
        "                bChanged = True\n",
        "    return x_ret"
      ],
      "execution_count": 0,
      "outputs": []
    },
    {
      "cell_type": "markdown",
      "metadata": {
        "id": "MS3GQ6IJJpfj",
        "colab_type": "text"
      },
      "source": [
        "As an example, let's compute the closure for the attribute \"name\":"
      ]
    },
    {
      "cell_type": "code",
      "metadata": {
        "id": "ZbLB8PZ_Jpfj",
        "colab_type": "code",
        "colab": {},
        "outputId": "e197717c-fa86-42c7-de1f-18a53a4c7473"
      },
      "source": [
        "A = set([\"name\"])\n",
        "compute_closure(A,fds, True)"
      ],
      "execution_count": 0,
      "outputs": [
        {
          "output_type": "stream",
          "text": [
            "Using FD name -> color\n",
            "\t Updated x to {color,name}\n"
          ],
          "name": "stdout"
        },
        {
          "output_type": "execute_result",
          "data": {
            "text/plain": [
              "{'color', 'name'}"
            ]
          },
          "metadata": {
            "tags": []
          },
          "execution_count": 11
        }
      ]
    },
    {
      "cell_type": "markdown",
      "metadata": {
        "id": "Ef1SekbaJpfm",
        "colab_type": "text"
      },
      "source": [
        "#### Exercise 3\n",
        "\n",
        "Is the attribute \"name\" a superkey for this relation? Why?"
      ]
    },
    {
      "cell_type": "markdown",
      "metadata": {
        "id": "Zz8-BYRKJpfm",
        "colab_type": "raw"
      },
      "source": [
        "Answer: Write your answer here"
      ]
    },
    {
      "cell_type": "markdown",
      "metadata": {
        "id": "f9-nNlSjJpfn",
        "colab_type": "text"
      },
      "source": [
        "### Keys and Superkeys\n",
        "\n",
        "Next, we'll add some new functions now for finding superkeys and keys.  Recall:\n",
        "* A _superkey_ for a relation $R(B_1,\\dots,B_m)$ is a set of attributes $\\{A_1,\\dots,A_n\\}$ s.t.\n",
        "$$ \\{A_1,\\dots,A_n\\} \\rightarrow B_{j} \\text{ for all } j=1,\\dots m$$\n",
        "* A _key_ is a minimal (setwise) _superkey_\n",
        "\n",
        "The algorithm to determine if a set of attributes $A$ is a superkey for $X$ is actually very simple (check if $A^+=X$):"
      ]
    },
    {
      "cell_type": "code",
      "metadata": {
        "id": "CN_1gGT0Jpfo",
        "colab_type": "code",
        "colab": {}
      },
      "source": [
        "def is_superkey_for(A, X, fds, verbose=False): \n",
        "    return X.issubset(compute_closure(A, fds, verbose=verbose))"
      ],
      "execution_count": 0,
      "outputs": []
    },
    {
      "cell_type": "markdown",
      "metadata": {
        "id": "m8-6PtUZJpfq",
        "colab_type": "text"
      },
      "source": [
        "Is \"name\" a superkey of the relation?"
      ]
    },
    {
      "cell_type": "code",
      "metadata": {
        "id": "_vfoZhPOJpfq",
        "colab_type": "code",
        "colab": {},
        "outputId": "79c0ac83-5b97-499d-dba1-a6b3128bae2a"
      },
      "source": [
        "is_superkey_for(A, attributes, fds)"
      ],
      "execution_count": 0,
      "outputs": [
        {
          "output_type": "execute_result",
          "data": {
            "text/plain": [
              "False"
            ]
          },
          "metadata": {
            "tags": []
          },
          "execution_count": 13
        }
      ]
    },
    {
      "cell_type": "markdown",
      "metadata": {
        "id": "44Psa_kfJpft",
        "colab_type": "text"
      },
      "source": [
        "Then, to check if $A$ is a key for $X$, we just confirm that:\n",
        "* (a) it is a superkey\n",
        "* (b) there are no smaller superkeys (_Note that we only need to check for superkeys of one size smaller_)"
      ]
    },
    {
      "cell_type": "code",
      "metadata": {
        "id": "dXz0J0pXJpft",
        "colab_type": "code",
        "colab": {}
      },
      "source": [
        "import itertools\n",
        "def is_key_for(A, X, fds, verbose=False):\n",
        "    subsets = set(itertools.combinations(A, len(A)-1))\n",
        "    return is_superkey_for(A, X, fds) and \\\n",
        "        all([not is_superkey_for(set(SA), X, fds) for SA in subsets])"
      ],
      "execution_count": 0,
      "outputs": []
    },
    {
      "cell_type": "markdown",
      "metadata": {
        "id": "pA_zQelfJpfw",
        "colab_type": "text"
      },
      "source": [
        "Now, let's look at another example:\n",
        "\n",
        "attributes = { cru, type, client, remise}\n",
        "\n",
        "and functional dependencies:\n",
        "\n",
        "cru $\\rightarrow$ type\n",
        "\n",
        "type, client $\\rightarrow$ remise\n",
        "\n",
        "#### Exercise 4\n",
        "\n",
        "Is \"cru\" and \"client\" a key of the relation? Why?"
      ]
    },
    {
      "cell_type": "code",
      "metadata": {
        "id": "5abdstZ5Jpfw",
        "colab_type": "code",
        "colab": {},
        "outputId": "3eca935c-d5a9-430e-9414-b2391fbc1688"
      },
      "source": [
        "\n"
      ],
      "execution_count": 0,
      "outputs": [
        {
          "output_type": "execute_result",
          "data": {
            "text/plain": [
              "True"
            ]
          },
          "metadata": {
            "tags": []
          },
          "execution_count": 15
        }
      ]
    },
    {
      "cell_type": "markdown",
      "metadata": {
        "id": "MCCRKRBdJpfz",
        "colab_type": "text"
      },
      "source": [
        "### Closure of a set of functional dependencies\n",
        "\n",
        "The algorithm to find the closure of a set of functional dependencies is the following:"
      ]
    },
    {
      "cell_type": "code",
      "metadata": {
        "id": "iVczEStUJpf0",
        "colab_type": "code",
        "colab": {}
      },
      "source": [
        "import itertools\n",
        "def findsubsets(S,m):\n",
        "    return set(itertools.combinations(S, m))\n",
        "def closure(X, fds, verbose=False):\n",
        "    c = []\n",
        "    for size in range(1, len(X)):\n",
        "        subsets = findsubsets(X, size) \n",
        "        for SA in subsets:      # loop through all the subsets.\n",
        "            cl = compute_closure(set(SA), fds, verbose)\n",
        "            if len(cl.difference(SA)) > 0: \n",
        "                c.extend([(set(SA), cl.difference(SA))])\n",
        "    return c"
      ],
      "execution_count": 0,
      "outputs": []
    },
    {
      "cell_type": "markdown",
      "metadata": {
        "id": "mWlPZkAzJpf4",
        "colab_type": "text"
      },
      "source": [
        "Let's see some examples of how to use it:"
      ]
    },
    {
      "cell_type": "code",
      "metadata": {
        "id": "RDRkTZV4Jpf5",
        "colab_type": "code",
        "colab": {},
        "outputId": "6182e077-7504-4f5b-dedb-91e4cbcb7c09"
      },
      "source": [
        "attributes1 = set(['A', 'B', 'C', 'D'])\n",
        "fds1 = [(set(['A', 'B']), 'C'),\n",
        "     (set(['A', 'D']), 'B'),\n",
        "     (set(['B']), 'D')]\n",
        "print_fds(closure(attributes1, fds1))\n"
      ],
      "execution_count": 0,
      "outputs": [
        {
          "output_type": "stream",
          "text": [
            "FDs = \tB -> D\n",
            "\tC,B -> D\n",
            "\tA,B -> D,C\n",
            "\tD,A -> C,B\n",
            "\tD,A,B -> C\n",
            "\tA,D,C -> B\n",
            "\tA,C,B -> D\n"
          ],
          "name": "stdout"
        }
      ]
    },
    {
      "cell_type": "code",
      "metadata": {
        "id": "4JuUuXygJpf7",
        "colab_type": "code",
        "colab": {},
        "outputId": "c5147f6a-9749-4dcd-fa88-2b9db0d67880"
      },
      "source": [
        "attributes2 = set (['CRU', 'TYPE', 'CLIENT', 'REMISE'])\n",
        "fds2 = [(set(['CRU']), 'TYPE'),\n",
        "     (set(['TYPE', 'CLIENT']), 'REMISE')]\n",
        "print_fds(closure(attributes2, fds2))"
      ],
      "execution_count": 0,
      "outputs": [
        {
          "output_type": "stream",
          "text": [
            "FDs = \tCRU -> TYPE\n",
            "\tREMISE,CRU -> TYPE\n",
            "\tCRU,CLIENT -> REMISE,TYPE\n",
            "\tTYPE,CLIENT -> REMISE\n",
            "\tTYPE,CRU,CLIENT -> REMISE\n",
            "\tREMISE,CRU,CLIENT -> TYPE\n"
          ],
          "name": "stdout"
        }
      ]
    },
    {
      "cell_type": "code",
      "metadata": {
        "id": "k1hg_n2cJpf9",
        "colab_type": "code",
        "colab": {},
        "outputId": "742af7aa-cb9a-40c3-c54c-74188a02e519"
      },
      "source": [
        "attributes3 = set( ['N VEH', 'TYPE', 'COULEUR', 'MARQUE', 'PUISSANCE'])\n",
        "fds3 = [(set(['N VEH']), 'TYPE'), \n",
        "      (set(['N VEH']), 'COULEUR'),\n",
        "      (set(['TYPE']), 'MARQUE'),\n",
        "      (set(['TYPE']), 'PUISSANCE')]\n",
        "print_fds(closure(attributes3,fds3))"
      ],
      "execution_count": 0,
      "outputs": [
        {
          "output_type": "stream",
          "text": [
            "FDs = \tTYPE -> PUISSANCE,MARQUE\n",
            "\tN VEH -> PUISSANCE,COULEUR,TYPE,MARQUE\n",
            "\tN VEH,PUISSANCE -> COULEUR,TYPE,MARQUE\n",
            "\tTYPE,MARQUE -> PUISSANCE\n",
            "\tPUISSANCE,TYPE -> MARQUE\n",
            "\tCOULEUR,TYPE -> PUISSANCE,MARQUE\n",
            "\tN VEH,TYPE -> COULEUR,PUISSANCE,MARQUE\n",
            "\tN VEH,MARQUE -> COULEUR,PUISSANCE,TYPE\n",
            "\tN VEH,COULEUR -> PUISSANCE,TYPE,MARQUE\n",
            "\tN VEH,COULEUR,MARQUE -> PUISSANCE,TYPE\n",
            "\tN VEH,PUISSANCE,MARQUE -> COULEUR,TYPE\n",
            "\tCOULEUR,TYPE,MARQUE -> PUISSANCE\n",
            "\tN VEH,TYPE,MARQUE -> COULEUR,PUISSANCE\n",
            "\tPUISSANCE,COULEUR,TYPE -> MARQUE\n",
            "\tN VEH,COULEUR,TYPE -> PUISSANCE,MARQUE\n",
            "\tN VEH,PUISSANCE,TYPE -> COULEUR,MARQUE\n",
            "\tN VEH,PUISSANCE,COULEUR -> TYPE,MARQUE\n",
            "\tN VEH,PUISSANCE,TYPE,MARQUE -> COULEUR\n",
            "\tN VEH,COULEUR,TYPE,MARQUE -> PUISSANCE\n",
            "\tN VEH,PUISSANCE,COULEUR,MARQUE -> TYPE\n",
            "\tN VEH,PUISSANCE,COULEUR,TYPE -> MARQUE\n"
          ],
          "name": "stdout"
        }
      ]
    },
    {
      "cell_type": "markdown",
      "metadata": {
        "id": "o--MSYPjJpf_",
        "colab_type": "text"
      },
      "source": [
        "Now, let's write a method to find superkeys of the relations:\n"
      ]
    },
    {
      "cell_type": "code",
      "metadata": {
        "id": "HdxpN3hMJpf_",
        "colab_type": "code",
        "colab": {}
      },
      "source": [
        "def superkeys(X, fds, verbose=False):\n",
        "    c = []\n",
        "    for size in range(1, len(X)):\n",
        "        subsets = findsubsets(X, size)\n",
        "        for SA in subsets:\n",
        "            cl = compute_closure(set(SA), fds, verbose)\n",
        "            if cl == X and len(cl.difference(SA)) > 0: ## cl = X\n",
        "                c.extend([SA])\n",
        "    return c"
      ],
      "execution_count": 0,
      "outputs": []
    },
    {
      "cell_type": "code",
      "metadata": {
        "id": "cv_gvOcvJpgB",
        "colab_type": "code",
        "colab": {},
        "outputId": "09b836c8-7bba-4f7f-9d46-d5c1820eda73"
      },
      "source": [
        "superkeys(attributes1, fds1)\n"
      ],
      "execution_count": 0,
      "outputs": [
        {
          "output_type": "execute_result",
          "data": {
            "text/plain": [
              "[('A', 'B'), ('D', 'A'), ('D', 'A', 'B'), ('C', 'D', 'A'), ('C', 'A', 'B')]"
            ]
          },
          "metadata": {
            "tags": []
          },
          "execution_count": 21
        }
      ]
    },
    {
      "cell_type": "markdown",
      "metadata": {
        "id": "Pn7C3I41JpgD",
        "colab_type": "text"
      },
      "source": [
        "Let's see some examples:"
      ]
    },
    {
      "cell_type": "code",
      "metadata": {
        "id": "VSaDtseoJpgE",
        "colab_type": "code",
        "colab": {},
        "outputId": "c16124e4-65c2-4a65-efc1-4c5ae2deff08"
      },
      "source": [
        "superkeys(attributes2, fds2)\n"
      ],
      "execution_count": 0,
      "outputs": [
        {
          "output_type": "execute_result",
          "data": {
            "text/plain": [
              "[('CLIENT', 'CRU'), ('CLIENT', 'TYPE', 'CRU'), ('CLIENT', 'REMISE', 'CRU')]"
            ]
          },
          "metadata": {
            "tags": []
          },
          "execution_count": 22
        }
      ]
    },
    {
      "cell_type": "code",
      "metadata": {
        "id": "DnwN0NP8JpgG",
        "colab_type": "code",
        "colab": {},
        "outputId": "dcdcd398-de4e-4cb8-b4c8-c1dc6a72b16a"
      },
      "source": [
        "superkeys(attributes3, fds3)"
      ],
      "execution_count": 0,
      "outputs": [
        {
          "output_type": "execute_result",
          "data": {
            "text/plain": [
              "[('N VEH',),\n",
              " ('N VEH', 'PUISSANCE'),\n",
              " ('N VEH', 'TYPE'),\n",
              " ('N VEH', 'MARQUE'),\n",
              " ('N VEH', 'COULEUR'),\n",
              " ('N VEH', 'COULEUR', 'MARQUE'),\n",
              " ('N VEH', 'PUISSANCE', 'MARQUE'),\n",
              " ('N VEH', 'TYPE', 'MARQUE'),\n",
              " ('N VEH', 'COULEUR', 'TYPE'),\n",
              " ('N VEH', 'PUISSANCE', 'TYPE'),\n",
              " ('N VEH', 'PUISSANCE', 'COULEUR'),\n",
              " ('N VEH', 'PUISSANCE', 'TYPE', 'MARQUE'),\n",
              " ('N VEH', 'COULEUR', 'TYPE', 'MARQUE'),\n",
              " ('N VEH', 'PUISSANCE', 'COULEUR', 'MARQUE'),\n",
              " ('N VEH', 'PUISSANCE', 'COULEUR', 'TYPE')]"
            ]
          },
          "metadata": {
            "tags": []
          },
          "execution_count": 23
        }
      ]
    },
    {
      "cell_type": "markdown",
      "metadata": {
        "id": "qAiMWEObJpgI",
        "colab_type": "text"
      },
      "source": [
        "#### Exercise 5\n",
        "\n",
        "Implement a `keys` method to find keys of a relation.\n",
        "\n",
        "**Note**: If there exist multiple keys of a relation, the `keys` method should return at least one of them."
      ]
    },
    {
      "cell_type": "code",
      "metadata": {
        "id": "QEe0PI3BJpgJ",
        "colab_type": "code",
        "colab": {}
      },
      "source": [
        "\n"
      ],
      "execution_count": 0,
      "outputs": []
    },
    {
      "cell_type": "markdown",
      "metadata": {
        "id": "QWvDepYPJpgM",
        "colab_type": "text"
      },
      "source": [
        "Test it "
      ]
    },
    {
      "cell_type": "code",
      "metadata": {
        "id": "S-5p9zYKJpgN",
        "colab_type": "code",
        "colab": {},
        "outputId": "fd4ee369-b240-427b-fc37-9b852505a7db"
      },
      "source": [
        "keys(attributes1, fds1)"
      ],
      "execution_count": 0,
      "outputs": [
        {
          "output_type": "execute_result",
          "data": {
            "text/plain": [
              "{'A', 'B'}"
            ]
          },
          "metadata": {
            "tags": []
          },
          "execution_count": 25
        }
      ]
    },
    {
      "cell_type": "code",
      "metadata": {
        "id": "Wf_7dTmOJpgP",
        "colab_type": "code",
        "colab": {},
        "outputId": "dc1f66c3-65da-4c43-e951-cfd3b96c9a00"
      },
      "source": [
        "keys(attributes2, fds2)"
      ],
      "execution_count": 0,
      "outputs": [
        {
          "output_type": "execute_result",
          "data": {
            "text/plain": [
              "{'CLIENT', 'CRU'}"
            ]
          },
          "metadata": {
            "tags": []
          },
          "execution_count": 26
        }
      ]
    },
    {
      "cell_type": "code",
      "metadata": {
        "id": "Svt99AD9JpgR",
        "colab_type": "code",
        "colab": {},
        "outputId": "95738e58-53de-4004-8f63-5b9f192fed6e"
      },
      "source": [
        "keys(attributes3, fds3)"
      ],
      "execution_count": 0,
      "outputs": [
        {
          "output_type": "execute_result",
          "data": {
            "text/plain": [
              "{'N VEH'}"
            ]
          },
          "metadata": {
            "tags": []
          },
          "execution_count": 27
        }
      ]
    },
    {
      "cell_type": "code",
      "metadata": {
        "id": "9UFZ6z9eJpgU",
        "colab_type": "code",
        "colab": {}
      },
      "source": [
        ""
      ],
      "execution_count": 0,
      "outputs": []
    }
  ]
}